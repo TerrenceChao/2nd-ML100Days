{
 "cells": [
  {
   "cell_type": "code",
   "execution_count": 6,
   "metadata": {
    "scrolled": true
   },
   "outputs": [
    {
     "name": "stdout",
     "output_type": "stream",
     "text": [
      "             key                                                pic\n",
      "0  n00015388_157  http://farm1.static.flickr.com/145/430300483_2...\n",
      "1  n00015388_238  http://farm2.static.flickr.com/1005/3352960681...\n",
      "2  n00015388_304  http://farm1.static.flickr.com/27/51009336_a96...\n",
      "3  n00015388_327  http://farm4.static.flickr.com/3025/2444687979...\n",
      "4  n00015388_355  http://img100.imageshack.us/img100/3253/forres...\n"
     ]
    }
   ],
   "source": [
    "import pandas as pd\n",
    "import urllib\n",
    "import json\n",
    "\n",
    "data = {\n",
    "    'key': [],\n",
    "    'pic': []\n",
    "}\n",
    "for line in urllib.request.urlopen('https://raw.githubusercontent.com/vashineyu/slides_and_others/master/tutorial/examples/imagenet_urls_examples.txt'):\n",
    "    terms = str(line, encoding = \"utf-8\").split('\\t')\n",
    "    # data[terms[0]] = terms[1].replace('\\n', '')\n",
    "    data['key'].append(terms[0])\n",
    "    data['pic'].append(terms[1].replace('\\n', ''))\n",
    "\n",
    "df = pd.DataFrame(data)\n",
    "# print(df)\n",
    "\n",
    "print(df[0:5])"
   ]
  },
  {
   "cell_type": "code",
   "execution_count": null,
   "metadata": {},
   "outputs": [],
   "source": []
  }
 ],
 "metadata": {
  "kernelspec": {
   "display_name": "Python 3",
   "language": "python",
   "name": "python3"
  },
  "language_info": {
   "codemirror_mode": {
    "name": "ipython",
    "version": 3
   },
   "file_extension": ".py",
   "mimetype": "text/x-python",
   "name": "python",
   "nbconvert_exporter": "python",
   "pygments_lexer": "ipython3",
   "version": "3.7.3"
  }
 },
 "nbformat": 4,
 "nbformat_minor": 2
}
