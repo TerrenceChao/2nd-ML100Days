{
 "cells": [
  {
   "cell_type": "code",
   "execution_count": 1,
   "metadata": {},
   "outputs": [],
   "source": [
    "import os\n",
    "import numpy as np\n",
    "import pandas as pd"
   ]
  },
  {
   "cell_type": "code",
   "execution_count": 21,
   "metadata": {},
   "outputs": [
    {
     "name": "stdout",
     "output_type": "stream",
     "text": [
      "Path of read id data: C:\\Users\\rfvbn\\Documents\\GitHub\\2nd-ML100Days\\homework\\../data/application_train.csv\n"
     ]
    }
   ],
   "source": [
    "current_dir = os.getcwd()\n",
    "f_app = os.path.join(current_dir, '../data/application_train.csv')\n",
    "print('Path of read id data: %s' % (f_app))\n",
    "app_train = pd.read_csv(f_app)"
   ]
  },
  {
   "cell_type": "code",
   "execution_count": 25,
   "metadata": {},
   "outputs": [
    {
     "name": "stdout",
     "output_type": "stream",
     "text": [
      "Rows: RangeIndex(start=0, stop=307511, step=1), \n",
      "Columns: Index(['SK_ID_CURR', 'TARGET', 'NAME_CONTRACT_TYPE', 'CODE_GENDER',\n",
      "       'FLAG_OWN_CAR', 'FLAG_OWN_REALTY', 'CNT_CHILDREN', 'AMT_INCOME_TOTAL',\n",
      "       'AMT_CREDIT', 'AMT_ANNUITY',\n",
      "       ...\n",
      "       'FLAG_DOCUMENT_18', 'FLAG_DOCUMENT_19', 'FLAG_DOCUMENT_20',\n",
      "       'FLAG_DOCUMENT_21', 'AMT_REQ_CREDIT_BUREAU_HOUR',\n",
      "       'AMT_REQ_CREDIT_BUREAU_DAY', 'AMT_REQ_CREDIT_BUREAU_WEEK',\n",
      "       'AMT_REQ_CREDIT_BUREAU_MON', 'AMT_REQ_CREDIT_BUREAU_QRT',\n",
      "       'AMT_REQ_CREDIT_BUREAU_YEAR'],\n",
      "      dtype='object', length=122)\n"
     ]
    }
   ],
   "source": [
    "# 資料的 row 數以及 column 數\n",
    "df_train = pd.DataFrame(app_train)\n",
    "rows = df_train.index\n",
    "columns = df_train.columns\n",
    "print('Rows: %s, \\nColumns: %s' % (rows, columns))"
   ]
  },
  {
   "cell_type": "code",
   "execution_count": 33,
   "metadata": {},
   "outputs": [
    {
     "name": "stdout",
     "output_type": "stream",
     "text": [
      "   SK_ID_CURR  TARGET NAME_CONTRACT_TYPE\n",
      "0      100002       1         Cash loans\n",
      "1      100003       0         Cash loans\n",
      "2      100004       0    Revolving loans\n",
      "3      100006       0         Cash loans\n",
      "4      100007       0         Cash loans\n",
      "5      100008       0         Cash loans\n"
     ]
    }
   ],
   "source": [
    "# 列出所有欄位\n",
    "# skip\n",
    "\n",
    "# 截取部分資料\n",
    "# print(app_train.head(2))\n",
    "df_train = pd.DataFrame(app_train)\n",
    "df_train_from_top_left_corner = df_train.iloc[:6, :3]\n",
    "print(df_train_from_top_left_corner)"
   ]
  },
  {
   "cell_type": "code",
   "execution_count": null,
   "metadata": {},
   "outputs": [],
   "source": []
  }
 ],
 "metadata": {
  "kernelspec": {
   "display_name": "Python 3",
   "language": "python",
   "name": "python3"
  },
  "language_info": {
   "codemirror_mode": {
    "name": "ipython",
    "version": 3
   },
   "file_extension": ".py",
   "mimetype": "text/x-python",
   "name": "python",
   "nbconvert_exporter": "python",
   "pygments_lexer": "ipython3",
   "version": "3.7.3"
  }
 },
 "nbformat": 4,
 "nbformat_minor": 2
}
